{
 "cells": [
  {
   "cell_type": "code",
   "execution_count": 1,
   "metadata": {},
   "outputs": [],
   "source": [
    "import numpy as np\n",
    "import cv2\n",
    "\n",
    "import PIL.Image as image\n",
    "import os\n",
    "\n",
    "import matplotlib.pylab as plt\n",
    "\n",
    "import tensorflow as tf\n",
    "import tensorflow_hub as hub\n",
    "\n",
    "from tensorflow import keras\n",
    "from tensorflow.keras import layers\n",
    "\n",
    "from tensorflow.keras.models import Sequential, Model\n",
    "\n",
    "from tensorflow.keras.applications.mobilenet_v2 import MobileNetV2"
   ]
  },
  {
   "cell_type": "markdown",
   "metadata": {},
   "source": [
    "### mobilenet is a pretrained model that is trained on 1.4 million images and 1000 different classes\n",
    "\n",
    "- images are in 224x224 dimension"
   ]
  },
  {
   "cell_type": "code",
   "execution_count": 2,
   "metadata": {},
   "outputs": [],
   "source": [
    "IMAGE_SHAPE = (224,224)\n",
    "model_224 = MobileNetV2(\n",
    "    include_top=True,\n",
    "    input_shape=IMAGE_SHAPE+(3,),\n",
    "    weights='imagenet'\n",
    ")\n",
    "# model_224.trainable = False"
   ]
  },
  {
   "cell_type": "code",
   "execution_count": 3,
   "metadata": {},
   "outputs": [
    {
     "data": {
      "text/plain": [
       "['background', 'tench', 'goldfish', 'great white shark', 'tiger shark']"
      ]
     },
     "execution_count": 3,
     "metadata": {},
     "output_type": "execute_result"
    }
   ],
   "source": [
    "image_lables = []\n",
    "with open(\"ImageNetLabels.txt\", \"r\") as f:\n",
    "    image_labels = f.read().splitlines()\n",
    "image_labels[:5]"
   ]
  },
  {
   "cell_type": "code",
   "execution_count": 4,
   "metadata": {},
   "outputs": [],
   "source": [
    "# dataset_url = \"https://storage.googleapis.com/download.tensorflow.org/example_images/flower_photos.tgz\"\n",
    "# data_dir = tf.keras.utils.get_file('flower_photos', origin=dataset_url, cache_dir='.', untar=True)"
   ]
  },
  {
   "cell_type": "code",
   "execution_count": 5,
   "metadata": {},
   "outputs": [
    {
     "data": {
      "text/plain": [
       "PosixPath('datasets/flower_photos')"
      ]
     },
     "execution_count": 5,
     "metadata": {},
     "output_type": "execute_result"
    }
   ],
   "source": [
    "import pathlib\n",
    "data_dir = pathlib.Path('datasets/flower_photos')\n",
    "data_dir"
   ]
  },
  {
   "cell_type": "code",
   "execution_count": 6,
   "metadata": {},
   "outputs": [],
   "source": [
    "flowers_images_dict = {\n",
    "    'roses' : list(data_dir.glob(\"roses/*\")),\n",
    "    'tulips' : list(data_dir.glob(\"tulips/*\")),\n",
    "    'daisy' : list(data_dir.glob(\"daisy/*\")),\n",
    "    'dandelion' : list(data_dir.glob(\"dandelion/*\")),\n",
    "    'sunflowers' : list(data_dir.glob(\"sunflowers/*\")),\n",
    "}"
   ]
  },
  {
   "cell_type": "code",
   "execution_count": 7,
   "metadata": {},
   "outputs": [],
   "source": [
    "flowers_label_dict = {\n",
    "    'roses' : 0,\n",
    "    'tulips' : 1,\n",
    "    'daisy' : 2,\n",
    "    'dandelion' : 3,\n",
    "    'sunflowers' : 4,\n",
    "}"
   ]
  },
  {
   "cell_type": "code",
   "execution_count": 8,
   "metadata": {},
   "outputs": [
    {
     "data": {
      "text/plain": [
       "'datasets/flower_photos/roses/16209331331_343c899d38.jpg'"
      ]
     },
     "execution_count": 8,
     "metadata": {},
     "output_type": "execute_result"
    }
   ],
   "source": [
    "str(flowers_images_dict['roses'][0])"
   ]
  },
  {
   "cell_type": "code",
   "execution_count": 9,
   "metadata": {},
   "outputs": [
    {
     "data": {
      "text/plain": [
       "(243, 500, 3)"
      ]
     },
     "execution_count": 9,
     "metadata": {},
     "output_type": "execute_result"
    }
   ],
   "source": [
    "img = cv2.imread(str(flowers_images_dict['roses'][0]))\n",
    "img.shape"
   ]
  },
  {
   "cell_type": "markdown",
   "metadata": {},
   "source": [
    "### before training model we need to make sure all images are of same size\n",
    "- here we should reshape image to 224x224"
   ]
  },
  {
   "cell_type": "code",
   "execution_count": 10,
   "metadata": {},
   "outputs": [],
   "source": [
    "X, y = [], []\n",
    "\n",
    "for flower_name, images in flowers_images_dict.items() :\n",
    "    for image in images:\n",
    "        img = cv2.imread(str(image))\n",
    "        resized_img = cv2.resize(img, IMAGE_SHAPE)\n",
    "        X.append(resized_img)\n",
    "        y.append(flowers_label_dict[flower_name])"
   ]
  },
  {
   "cell_type": "markdown",
   "metadata": {},
   "source": [
    "### we should normalize the image by dividing it by 255 to bring the value to 0 to 1"
   ]
  },
  {
   "cell_type": "code",
   "execution_count": 11,
   "metadata": {},
   "outputs": [],
   "source": [
    "X = np.array(X)\n",
    "y = np.array(y)"
   ]
  },
  {
   "cell_type": "code",
   "execution_count": 12,
   "metadata": {},
   "outputs": [],
   "source": [
    "from sklearn.model_selection import train_test_split\n",
    "X_train, X_test, y_train, y_test = train_test_split(X, y, random_state=0)"
   ]
  },
  {
   "cell_type": "code",
   "execution_count": 13,
   "metadata": {},
   "outputs": [],
   "source": [
    "X_train_scaled = X_train / 255\n",
    "X_test_scaled = X_test / 255"
   ]
  },
  {
   "cell_type": "code",
   "execution_count": 14,
   "metadata": {},
   "outputs": [
    {
     "data": {
      "text/plain": [
       "array([794, 794, 721])"
      ]
     },
     "execution_count": 14,
     "metadata": {},
     "output_type": "execute_result"
    }
   ],
   "source": [
    "predicted = model_224.predict(np.array([X[0], X[1], X[2]]))\n",
    "predicted = np.argmax(predicted, axis=1)\n",
    "predicted"
   ]
  },
  {
   "cell_type": "code",
   "execution_count": 15,
   "metadata": {},
   "outputs": [
    {
     "data": {
      "text/plain": [
       "0"
      ]
     },
     "execution_count": 15,
     "metadata": {},
     "output_type": "execute_result"
    }
   ],
   "source": [
    "y[3]"
   ]
  },
  {
   "cell_type": "code",
   "execution_count": 16,
   "metadata": {},
   "outputs": [
    {
     "data": {
      "text/plain": [
       "'shopping basket'"
      ]
     },
     "execution_count": 16,
     "metadata": {},
     "output_type": "execute_result"
    }
   ],
   "source": [
    "image_labels[791]"
   ]
  },
  {
   "cell_type": "markdown",
   "metadata": {},
   "source": [
    "## now lets import mobilenet model without the last layer "
   ]
  },
  {
   "cell_type": "code",
   "execution_count": null,
   "metadata": {},
   "outputs": [],
   "source": []
  },
  {
   "cell_type": "code",
   "execution_count": 126,
   "metadata": {},
   "outputs": [],
   "source": [
    "model_224_without_top_layer = MobileNetV2(\n",
    "    include_top=False,\n",
    "    input_shape=IMAGE_SHAPE+(3,)\n",
    ")\n",
    "model_224_without_top_layer.trainable = False"
   ]
  },
  {
   "cell_type": "code",
   "execution_count": 127,
   "metadata": {},
   "outputs": [
    {
     "name": "stdout",
     "output_type": "stream",
     "text": [
      "Number of layers in the base model:  154\n"
     ]
    }
   ],
   "source": [
    "# Let's take a look to see how many layers are in the base model\n",
    "print(\"Number of layers in the base model: \", len(model_224_without_top_layer.layers))\n",
    "num_of_layers_to_train = 0\n",
    "# Fine-tune from this layer onwards\n",
    "fine_tune_from_layer_number = len(model_224_without_top_layer.layers) - 1 - num_of_layers_to_train\n",
    "\n",
    "# Freeze all the layers before the `fine_tune_at` layer\n",
    "for layer in model_224_without_top_layer.layers[:fine_tune_from_layer_number]:\n",
    "  layer.trainable = False"
   ]
  },
  {
   "cell_type": "code",
   "execution_count": 128,
   "metadata": {},
   "outputs": [],
   "source": [
    "model_224_without_top_layer.compile(\n",
    "    optimizer = tf.keras.optimizers.Adam(),\n",
    "    loss = tf.keras.losses.SparseCategoricalCrossentropy(),\n",
    "    metrics = ['acc']\n",
    ")\n",
    "\n",
    "# model_224_without_top_layer.compile('adam',\n",
    "#               loss=tf.keras.losses.BinaryCrossentropy(from_logits=True),\n",
    "#               metrics=['accuracy'])"
   ]
  },
  {
   "cell_type": "code",
   "execution_count": 129,
   "metadata": {},
   "outputs": [
    {
     "name": "stdout",
     "output_type": "stream",
     "text": [
      "Model: \"mobilenetv2_1.00_224\"\n",
      "__________________________________________________________________________________________________\n",
      " Layer (type)                   Output Shape         Param #     Connected to                     \n",
      "==================================================================================================\n",
      " input_7 (InputLayer)           [(None, 224, 224, 3  0           []                               \n",
      "                                )]                                                                \n",
      "                                                                                                  \n",
      " Conv1 (Conv2D)                 (None, 112, 112, 32  864         ['input_7[0][0]']                \n",
      "                                )                                                                 \n",
      "                                                                                                  \n",
      " bn_Conv1 (BatchNormalization)  (None, 112, 112, 32  128         ['Conv1[0][0]']                  \n",
      "                                )                                                                 \n",
      "                                                                                                  \n",
      " Conv1_relu (ReLU)              (None, 112, 112, 32  0           ['bn_Conv1[0][0]']               \n",
      "                                )                                                                 \n",
      "                                                                                                  \n",
      " expanded_conv_depthwise (Depth  (None, 112, 112, 32  288        ['Conv1_relu[0][0]']             \n",
      " wiseConv2D)                    )                                                                 \n",
      "                                                                                                  \n",
      " expanded_conv_depthwise_BN (Ba  (None, 112, 112, 32  128        ['expanded_conv_depthwise[0][0]']\n",
      " tchNormalization)              )                                                                 \n",
      "                                                                                                  \n",
      " expanded_conv_depthwise_relu (  (None, 112, 112, 32  0          ['expanded_conv_depthwise_BN[0][0\n",
      " ReLU)                          )                                ]']                              \n",
      "                                                                                                  \n",
      " expanded_conv_project (Conv2D)  (None, 112, 112, 16  512        ['expanded_conv_depthwise_relu[0]\n",
      "                                )                                [0]']                            \n",
      "                                                                                                  \n",
      " expanded_conv_project_BN (Batc  (None, 112, 112, 16  64         ['expanded_conv_project[0][0]']  \n",
      " hNormalization)                )                                                                 \n",
      "                                                                                                  \n",
      " block_1_expand (Conv2D)        (None, 112, 112, 96  1536        ['expanded_conv_project_BN[0][0]'\n",
      "                                )                                ]                                \n",
      "                                                                                                  \n",
      " block_1_expand_BN (BatchNormal  (None, 112, 112, 96  384        ['block_1_expand[0][0]']         \n",
      " ization)                       )                                                                 \n",
      "                                                                                                  \n",
      " block_1_expand_relu (ReLU)     (None, 112, 112, 96  0           ['block_1_expand_BN[0][0]']      \n",
      "                                )                                                                 \n",
      "                                                                                                  \n",
      " block_1_pad (ZeroPadding2D)    (None, 113, 113, 96  0           ['block_1_expand_relu[0][0]']    \n",
      "                                )                                                                 \n",
      "                                                                                                  \n",
      " block_1_depthwise (DepthwiseCo  (None, 56, 56, 96)  864         ['block_1_pad[0][0]']            \n",
      " nv2D)                                                                                            \n",
      "                                                                                                  \n",
      " block_1_depthwise_BN (BatchNor  (None, 56, 56, 96)  384         ['block_1_depthwise[0][0]']      \n",
      " malization)                                                                                      \n",
      "                                                                                                  \n",
      " block_1_depthwise_relu (ReLU)  (None, 56, 56, 96)   0           ['block_1_depthwise_BN[0][0]']   \n",
      "                                                                                                  \n",
      " block_1_project (Conv2D)       (None, 56, 56, 24)   2304        ['block_1_depthwise_relu[0][0]'] \n",
      "                                                                                                  \n",
      " block_1_project_BN (BatchNorma  (None, 56, 56, 24)  96          ['block_1_project[0][0]']        \n",
      " lization)                                                                                        \n",
      "                                                                                                  \n",
      " block_2_expand (Conv2D)        (None, 56, 56, 144)  3456        ['block_1_project_BN[0][0]']     \n",
      "                                                                                                  \n",
      " block_2_expand_BN (BatchNormal  (None, 56, 56, 144)  576        ['block_2_expand[0][0]']         \n",
      " ization)                                                                                         \n",
      "                                                                                                  \n",
      " block_2_expand_relu (ReLU)     (None, 56, 56, 144)  0           ['block_2_expand_BN[0][0]']      \n",
      "                                                                                                  \n",
      " block_2_depthwise (DepthwiseCo  (None, 56, 56, 144)  1296       ['block_2_expand_relu[0][0]']    \n",
      " nv2D)                                                                                            \n",
      "                                                                                                  \n",
      " block_2_depthwise_BN (BatchNor  (None, 56, 56, 144)  576        ['block_2_depthwise[0][0]']      \n",
      " malization)                                                                                      \n",
      "                                                                                                  \n",
      " block_2_depthwise_relu (ReLU)  (None, 56, 56, 144)  0           ['block_2_depthwise_BN[0][0]']   \n",
      "                                                                                                  \n",
      " block_2_project (Conv2D)       (None, 56, 56, 24)   3456        ['block_2_depthwise_relu[0][0]'] \n",
      "                                                                                                  \n",
      " block_2_project_BN (BatchNorma  (None, 56, 56, 24)  96          ['block_2_project[0][0]']        \n",
      " lization)                                                                                        \n",
      "                                                                                                  \n",
      " block_2_add (Add)              (None, 56, 56, 24)   0           ['block_1_project_BN[0][0]',     \n",
      "                                                                  'block_2_project_BN[0][0]']     \n",
      "                                                                                                  \n",
      " block_3_expand (Conv2D)        (None, 56, 56, 144)  3456        ['block_2_add[0][0]']            \n",
      "                                                                                                  \n",
      " block_3_expand_BN (BatchNormal  (None, 56, 56, 144)  576        ['block_3_expand[0][0]']         \n",
      " ization)                                                                                         \n",
      "                                                                                                  \n",
      " block_3_expand_relu (ReLU)     (None, 56, 56, 144)  0           ['block_3_expand_BN[0][0]']      \n",
      "                                                                                                  \n",
      " block_3_pad (ZeroPadding2D)    (None, 57, 57, 144)  0           ['block_3_expand_relu[0][0]']    \n",
      "                                                                                                  \n",
      " block_3_depthwise (DepthwiseCo  (None, 28, 28, 144)  1296       ['block_3_pad[0][0]']            \n",
      " nv2D)                                                                                            \n",
      "                                                                                                  \n",
      " block_3_depthwise_BN (BatchNor  (None, 28, 28, 144)  576        ['block_3_depthwise[0][0]']      \n",
      " malization)                                                                                      \n",
      "                                                                                                  \n",
      " block_3_depthwise_relu (ReLU)  (None, 28, 28, 144)  0           ['block_3_depthwise_BN[0][0]']   \n",
      "                                                                                                  \n",
      " block_3_project (Conv2D)       (None, 28, 28, 32)   4608        ['block_3_depthwise_relu[0][0]'] \n",
      "                                                                                                  \n",
      " block_3_project_BN (BatchNorma  (None, 28, 28, 32)  128         ['block_3_project[0][0]']        \n",
      " lization)                                                                                        \n",
      "                                                                                                  \n",
      " block_4_expand (Conv2D)        (None, 28, 28, 192)  6144        ['block_3_project_BN[0][0]']     \n",
      "                                                                                                  \n",
      " block_4_expand_BN (BatchNormal  (None, 28, 28, 192)  768        ['block_4_expand[0][0]']         \n",
      " ization)                                                                                         \n",
      "                                                                                                  \n",
      " block_4_expand_relu (ReLU)     (None, 28, 28, 192)  0           ['block_4_expand_BN[0][0]']      \n",
      "                                                                                                  \n",
      " block_4_depthwise (DepthwiseCo  (None, 28, 28, 192)  1728       ['block_4_expand_relu[0][0]']    \n",
      " nv2D)                                                                                            \n",
      "                                                                                                  \n",
      " block_4_depthwise_BN (BatchNor  (None, 28, 28, 192)  768        ['block_4_depthwise[0][0]']      \n",
      " malization)                                                                                      \n",
      "                                                                                                  \n",
      " block_4_depthwise_relu (ReLU)  (None, 28, 28, 192)  0           ['block_4_depthwise_BN[0][0]']   \n",
      "                                                                                                  \n",
      " block_4_project (Conv2D)       (None, 28, 28, 32)   6144        ['block_4_depthwise_relu[0][0]'] \n",
      "                                                                                                  \n",
      " block_4_project_BN (BatchNorma  (None, 28, 28, 32)  128         ['block_4_project[0][0]']        \n",
      " lization)                                                                                        \n",
      "                                                                                                  \n",
      " block_4_add (Add)              (None, 28, 28, 32)   0           ['block_3_project_BN[0][0]',     \n",
      "                                                                  'block_4_project_BN[0][0]']     \n",
      "                                                                                                  \n",
      " block_5_expand (Conv2D)        (None, 28, 28, 192)  6144        ['block_4_add[0][0]']            \n",
      "                                                                                                  \n",
      " block_5_expand_BN (BatchNormal  (None, 28, 28, 192)  768        ['block_5_expand[0][0]']         \n",
      " ization)                                                                                         \n",
      "                                                                                                  \n",
      " block_5_expand_relu (ReLU)     (None, 28, 28, 192)  0           ['block_5_expand_BN[0][0]']      \n",
      "                                                                                                  \n",
      " block_5_depthwise (DepthwiseCo  (None, 28, 28, 192)  1728       ['block_5_expand_relu[0][0]']    \n",
      " nv2D)                                                                                            \n",
      "                                                                                                  \n",
      " block_5_depthwise_BN (BatchNor  (None, 28, 28, 192)  768        ['block_5_depthwise[0][0]']      \n",
      " malization)                                                                                      \n",
      "                                                                                                  \n",
      " block_5_depthwise_relu (ReLU)  (None, 28, 28, 192)  0           ['block_5_depthwise_BN[0][0]']   \n",
      "                                                                                                  \n",
      " block_5_project (Conv2D)       (None, 28, 28, 32)   6144        ['block_5_depthwise_relu[0][0]'] \n",
      "                                                                                                  \n",
      " block_5_project_BN (BatchNorma  (None, 28, 28, 32)  128         ['block_5_project[0][0]']        \n",
      " lization)                                                                                        \n",
      "                                                                                                  \n",
      " block_5_add (Add)              (None, 28, 28, 32)   0           ['block_4_add[0][0]',            \n",
      "                                                                  'block_5_project_BN[0][0]']     \n",
      "                                                                                                  \n",
      " block_6_expand (Conv2D)        (None, 28, 28, 192)  6144        ['block_5_add[0][0]']            \n",
      "                                                                                                  \n",
      " block_6_expand_BN (BatchNormal  (None, 28, 28, 192)  768        ['block_6_expand[0][0]']         \n",
      " ization)                                                                                         \n",
      "                                                                                                  \n",
      " block_6_expand_relu (ReLU)     (None, 28, 28, 192)  0           ['block_6_expand_BN[0][0]']      \n",
      "                                                                                                  \n",
      " block_6_pad (ZeroPadding2D)    (None, 29, 29, 192)  0           ['block_6_expand_relu[0][0]']    \n",
      "                                                                                                  \n",
      " block_6_depthwise (DepthwiseCo  (None, 14, 14, 192)  1728       ['block_6_pad[0][0]']            \n",
      " nv2D)                                                                                            \n",
      "                                                                                                  \n",
      " block_6_depthwise_BN (BatchNor  (None, 14, 14, 192)  768        ['block_6_depthwise[0][0]']      \n",
      " malization)                                                                                      \n",
      "                                                                                                  \n",
      " block_6_depthwise_relu (ReLU)  (None, 14, 14, 192)  0           ['block_6_depthwise_BN[0][0]']   \n",
      "                                                                                                  \n",
      " block_6_project (Conv2D)       (None, 14, 14, 64)   12288       ['block_6_depthwise_relu[0][0]'] \n",
      "                                                                                                  \n",
      " block_6_project_BN (BatchNorma  (None, 14, 14, 64)  256         ['block_6_project[0][0]']        \n",
      " lization)                                                                                        \n",
      "                                                                                                  \n",
      " block_7_expand (Conv2D)        (None, 14, 14, 384)  24576       ['block_6_project_BN[0][0]']     \n",
      "                                                                                                  \n",
      " block_7_expand_BN (BatchNormal  (None, 14, 14, 384)  1536       ['block_7_expand[0][0]']         \n",
      " ization)                                                                                         \n",
      "                                                                                                  \n",
      " block_7_expand_relu (ReLU)     (None, 14, 14, 384)  0           ['block_7_expand_BN[0][0]']      \n",
      "                                                                                                  \n",
      " block_7_depthwise (DepthwiseCo  (None, 14, 14, 384)  3456       ['block_7_expand_relu[0][0]']    \n",
      " nv2D)                                                                                            \n",
      "                                                                                                  \n",
      " block_7_depthwise_BN (BatchNor  (None, 14, 14, 384)  1536       ['block_7_depthwise[0][0]']      \n",
      " malization)                                                                                      \n",
      "                                                                                                  \n",
      " block_7_depthwise_relu (ReLU)  (None, 14, 14, 384)  0           ['block_7_depthwise_BN[0][0]']   \n",
      "                                                                                                  \n",
      " block_7_project (Conv2D)       (None, 14, 14, 64)   24576       ['block_7_depthwise_relu[0][0]'] \n",
      "                                                                                                  \n",
      " block_7_project_BN (BatchNorma  (None, 14, 14, 64)  256         ['block_7_project[0][0]']        \n",
      " lization)                                                                                        \n",
      "                                                                                                  \n",
      " block_7_add (Add)              (None, 14, 14, 64)   0           ['block_6_project_BN[0][0]',     \n",
      "                                                                  'block_7_project_BN[0][0]']     \n",
      "                                                                                                  \n",
      " block_8_expand (Conv2D)        (None, 14, 14, 384)  24576       ['block_7_add[0][0]']            \n",
      "                                                                                                  \n",
      " block_8_expand_BN (BatchNormal  (None, 14, 14, 384)  1536       ['block_8_expand[0][0]']         \n",
      " ization)                                                                                         \n",
      "                                                                                                  \n",
      " block_8_expand_relu (ReLU)     (None, 14, 14, 384)  0           ['block_8_expand_BN[0][0]']      \n",
      "                                                                                                  \n",
      " block_8_depthwise (DepthwiseCo  (None, 14, 14, 384)  3456       ['block_8_expand_relu[0][0]']    \n",
      " nv2D)                                                                                            \n",
      "                                                                                                  \n",
      " block_8_depthwise_BN (BatchNor  (None, 14, 14, 384)  1536       ['block_8_depthwise[0][0]']      \n",
      " malization)                                                                                      \n",
      "                                                                                                  \n",
      " block_8_depthwise_relu (ReLU)  (None, 14, 14, 384)  0           ['block_8_depthwise_BN[0][0]']   \n",
      "                                                                                                  \n",
      " block_8_project (Conv2D)       (None, 14, 14, 64)   24576       ['block_8_depthwise_relu[0][0]'] \n",
      "                                                                                                  \n",
      " block_8_project_BN (BatchNorma  (None, 14, 14, 64)  256         ['block_8_project[0][0]']        \n",
      " lization)                                                                                        \n",
      "                                                                                                  \n",
      " block_8_add (Add)              (None, 14, 14, 64)   0           ['block_7_add[0][0]',            \n",
      "                                                                  'block_8_project_BN[0][0]']     \n",
      "                                                                                                  \n",
      " block_9_expand (Conv2D)        (None, 14, 14, 384)  24576       ['block_8_add[0][0]']            \n",
      "                                                                                                  \n",
      " block_9_expand_BN (BatchNormal  (None, 14, 14, 384)  1536       ['block_9_expand[0][0]']         \n",
      " ization)                                                                                         \n",
      "                                                                                                  \n",
      " block_9_expand_relu (ReLU)     (None, 14, 14, 384)  0           ['block_9_expand_BN[0][0]']      \n",
      "                                                                                                  \n",
      " block_9_depthwise (DepthwiseCo  (None, 14, 14, 384)  3456       ['block_9_expand_relu[0][0]']    \n",
      " nv2D)                                                                                            \n",
      "                                                                                                  \n",
      " block_9_depthwise_BN (BatchNor  (None, 14, 14, 384)  1536       ['block_9_depthwise[0][0]']      \n",
      " malization)                                                                                      \n",
      "                                                                                                  \n",
      " block_9_depthwise_relu (ReLU)  (None, 14, 14, 384)  0           ['block_9_depthwise_BN[0][0]']   \n",
      "                                                                                                  \n",
      " block_9_project (Conv2D)       (None, 14, 14, 64)   24576       ['block_9_depthwise_relu[0][0]'] \n",
      "                                                                                                  \n",
      " block_9_project_BN (BatchNorma  (None, 14, 14, 64)  256         ['block_9_project[0][0]']        \n",
      " lization)                                                                                        \n",
      "                                                                                                  \n",
      " block_9_add (Add)              (None, 14, 14, 64)   0           ['block_8_add[0][0]',            \n",
      "                                                                  'block_9_project_BN[0][0]']     \n",
      "                                                                                                  \n",
      " block_10_expand (Conv2D)       (None, 14, 14, 384)  24576       ['block_9_add[0][0]']            \n",
      "                                                                                                  \n",
      " block_10_expand_BN (BatchNorma  (None, 14, 14, 384)  1536       ['block_10_expand[0][0]']        \n",
      " lization)                                                                                        \n",
      "                                                                                                  \n",
      " block_10_expand_relu (ReLU)    (None, 14, 14, 384)  0           ['block_10_expand_BN[0][0]']     \n",
      "                                                                                                  \n",
      " block_10_depthwise (DepthwiseC  (None, 14, 14, 384)  3456       ['block_10_expand_relu[0][0]']   \n",
      " onv2D)                                                                                           \n",
      "                                                                                                  \n",
      " block_10_depthwise_BN (BatchNo  (None, 14, 14, 384)  1536       ['block_10_depthwise[0][0]']     \n",
      " rmalization)                                                                                     \n",
      "                                                                                                  \n",
      " block_10_depthwise_relu (ReLU)  (None, 14, 14, 384)  0          ['block_10_depthwise_BN[0][0]']  \n",
      "                                                                                                  \n",
      " block_10_project (Conv2D)      (None, 14, 14, 96)   36864       ['block_10_depthwise_relu[0][0]']\n",
      "                                                                                                  \n",
      " block_10_project_BN (BatchNorm  (None, 14, 14, 96)  384         ['block_10_project[0][0]']       \n",
      " alization)                                                                                       \n",
      "                                                                                                  \n",
      " block_11_expand (Conv2D)       (None, 14, 14, 576)  55296       ['block_10_project_BN[0][0]']    \n",
      "                                                                                                  \n",
      " block_11_expand_BN (BatchNorma  (None, 14, 14, 576)  2304       ['block_11_expand[0][0]']        \n",
      " lization)                                                                                        \n",
      "                                                                                                  \n",
      " block_11_expand_relu (ReLU)    (None, 14, 14, 576)  0           ['block_11_expand_BN[0][0]']     \n",
      "                                                                                                  \n",
      " block_11_depthwise (DepthwiseC  (None, 14, 14, 576)  5184       ['block_11_expand_relu[0][0]']   \n",
      " onv2D)                                                                                           \n",
      "                                                                                                  \n",
      " block_11_depthwise_BN (BatchNo  (None, 14, 14, 576)  2304       ['block_11_depthwise[0][0]']     \n",
      " rmalization)                                                                                     \n",
      "                                                                                                  \n",
      " block_11_depthwise_relu (ReLU)  (None, 14, 14, 576)  0          ['block_11_depthwise_BN[0][0]']  \n",
      "                                                                                                  \n",
      " block_11_project (Conv2D)      (None, 14, 14, 96)   55296       ['block_11_depthwise_relu[0][0]']\n",
      "                                                                                                  \n",
      " block_11_project_BN (BatchNorm  (None, 14, 14, 96)  384         ['block_11_project[0][0]']       \n",
      " alization)                                                                                       \n",
      "                                                                                                  \n",
      " block_11_add (Add)             (None, 14, 14, 96)   0           ['block_10_project_BN[0][0]',    \n",
      "                                                                  'block_11_project_BN[0][0]']    \n",
      "                                                                                                  \n",
      " block_12_expand (Conv2D)       (None, 14, 14, 576)  55296       ['block_11_add[0][0]']           \n",
      "                                                                                                  \n",
      " block_12_expand_BN (BatchNorma  (None, 14, 14, 576)  2304       ['block_12_expand[0][0]']        \n",
      " lization)                                                                                        \n",
      "                                                                                                  \n",
      " block_12_expand_relu (ReLU)    (None, 14, 14, 576)  0           ['block_12_expand_BN[0][0]']     \n",
      "                                                                                                  \n",
      " block_12_depthwise (DepthwiseC  (None, 14, 14, 576)  5184       ['block_12_expand_relu[0][0]']   \n",
      " onv2D)                                                                                           \n",
      "                                                                                                  \n",
      " block_12_depthwise_BN (BatchNo  (None, 14, 14, 576)  2304       ['block_12_depthwise[0][0]']     \n",
      " rmalization)                                                                                     \n",
      "                                                                                                  \n",
      " block_12_depthwise_relu (ReLU)  (None, 14, 14, 576)  0          ['block_12_depthwise_BN[0][0]']  \n",
      "                                                                                                  \n",
      " block_12_project (Conv2D)      (None, 14, 14, 96)   55296       ['block_12_depthwise_relu[0][0]']\n",
      "                                                                                                  \n",
      " block_12_project_BN (BatchNorm  (None, 14, 14, 96)  384         ['block_12_project[0][0]']       \n",
      " alization)                                                                                       \n",
      "                                                                                                  \n",
      " block_12_add (Add)             (None, 14, 14, 96)   0           ['block_11_add[0][0]',           \n",
      "                                                                  'block_12_project_BN[0][0]']    \n",
      "                                                                                                  \n",
      " block_13_expand (Conv2D)       (None, 14, 14, 576)  55296       ['block_12_add[0][0]']           \n",
      "                                                                                                  \n",
      " block_13_expand_BN (BatchNorma  (None, 14, 14, 576)  2304       ['block_13_expand[0][0]']        \n",
      " lization)                                                                                        \n",
      "                                                                                                  \n",
      " block_13_expand_relu (ReLU)    (None, 14, 14, 576)  0           ['block_13_expand_BN[0][0]']     \n",
      "                                                                                                  \n",
      " block_13_pad (ZeroPadding2D)   (None, 15, 15, 576)  0           ['block_13_expand_relu[0][0]']   \n",
      "                                                                                                  \n",
      " block_13_depthwise (DepthwiseC  (None, 7, 7, 576)   5184        ['block_13_pad[0][0]']           \n",
      " onv2D)                                                                                           \n",
      "                                                                                                  \n",
      " block_13_depthwise_BN (BatchNo  (None, 7, 7, 576)   2304        ['block_13_depthwise[0][0]']     \n",
      " rmalization)                                                                                     \n",
      "                                                                                                  \n",
      " block_13_depthwise_relu (ReLU)  (None, 7, 7, 576)   0           ['block_13_depthwise_BN[0][0]']  \n",
      "                                                                                                  \n",
      " block_13_project (Conv2D)      (None, 7, 7, 160)    92160       ['block_13_depthwise_relu[0][0]']\n",
      "                                                                                                  \n",
      " block_13_project_BN (BatchNorm  (None, 7, 7, 160)   640         ['block_13_project[0][0]']       \n",
      " alization)                                                                                       \n",
      "                                                                                                  \n",
      " block_14_expand (Conv2D)       (None, 7, 7, 960)    153600      ['block_13_project_BN[0][0]']    \n",
      "                                                                                                  \n",
      " block_14_expand_BN (BatchNorma  (None, 7, 7, 960)   3840        ['block_14_expand[0][0]']        \n",
      " lization)                                                                                        \n",
      "                                                                                                  \n",
      " block_14_expand_relu (ReLU)    (None, 7, 7, 960)    0           ['block_14_expand_BN[0][0]']     \n",
      "                                                                                                  \n",
      " block_14_depthwise (DepthwiseC  (None, 7, 7, 960)   8640        ['block_14_expand_relu[0][0]']   \n",
      " onv2D)                                                                                           \n",
      "                                                                                                  \n",
      " block_14_depthwise_BN (BatchNo  (None, 7, 7, 960)   3840        ['block_14_depthwise[0][0]']     \n",
      " rmalization)                                                                                     \n",
      "                                                                                                  \n",
      " block_14_depthwise_relu (ReLU)  (None, 7, 7, 960)   0           ['block_14_depthwise_BN[0][0]']  \n",
      "                                                                                                  \n",
      " block_14_project (Conv2D)      (None, 7, 7, 160)    153600      ['block_14_depthwise_relu[0][0]']\n",
      "                                                                                                  \n",
      " block_14_project_BN (BatchNorm  (None, 7, 7, 160)   640         ['block_14_project[0][0]']       \n",
      " alization)                                                                                       \n",
      "                                                                                                  \n",
      " block_14_add (Add)             (None, 7, 7, 160)    0           ['block_13_project_BN[0][0]',    \n",
      "                                                                  'block_14_project_BN[0][0]']    \n",
      "                                                                                                  \n",
      " block_15_expand (Conv2D)       (None, 7, 7, 960)    153600      ['block_14_add[0][0]']           \n",
      "                                                                                                  \n",
      " block_15_expand_BN (BatchNorma  (None, 7, 7, 960)   3840        ['block_15_expand[0][0]']        \n",
      " lization)                                                                                        \n",
      "                                                                                                  \n",
      " block_15_expand_relu (ReLU)    (None, 7, 7, 960)    0           ['block_15_expand_BN[0][0]']     \n",
      "                                                                                                  \n",
      " block_15_depthwise (DepthwiseC  (None, 7, 7, 960)   8640        ['block_15_expand_relu[0][0]']   \n",
      " onv2D)                                                                                           \n",
      "                                                                                                  \n",
      " block_15_depthwise_BN (BatchNo  (None, 7, 7, 960)   3840        ['block_15_depthwise[0][0]']     \n",
      " rmalization)                                                                                     \n",
      "                                                                                                  \n",
      " block_15_depthwise_relu (ReLU)  (None, 7, 7, 960)   0           ['block_15_depthwise_BN[0][0]']  \n",
      "                                                                                                  \n",
      " block_15_project (Conv2D)      (None, 7, 7, 160)    153600      ['block_15_depthwise_relu[0][0]']\n",
      "                                                                                                  \n",
      " block_15_project_BN (BatchNorm  (None, 7, 7, 160)   640         ['block_15_project[0][0]']       \n",
      " alization)                                                                                       \n",
      "                                                                                                  \n",
      " block_15_add (Add)             (None, 7, 7, 160)    0           ['block_14_add[0][0]',           \n",
      "                                                                  'block_15_project_BN[0][0]']    \n",
      "                                                                                                  \n",
      " block_16_expand (Conv2D)       (None, 7, 7, 960)    153600      ['block_15_add[0][0]']           \n",
      "                                                                                                  \n",
      " block_16_expand_BN (BatchNorma  (None, 7, 7, 960)   3840        ['block_16_expand[0][0]']        \n",
      " lization)                                                                                        \n",
      "                                                                                                  \n",
      " block_16_expand_relu (ReLU)    (None, 7, 7, 960)    0           ['block_16_expand_BN[0][0]']     \n",
      "                                                                                                  \n",
      " block_16_depthwise (DepthwiseC  (None, 7, 7, 960)   8640        ['block_16_expand_relu[0][0]']   \n",
      " onv2D)                                                                                           \n",
      "                                                                                                  \n",
      " block_16_depthwise_BN (BatchNo  (None, 7, 7, 960)   3840        ['block_16_depthwise[0][0]']     \n",
      " rmalization)                                                                                     \n",
      "                                                                                                  \n",
      " block_16_depthwise_relu (ReLU)  (None, 7, 7, 960)   0           ['block_16_depthwise_BN[0][0]']  \n",
      "                                                                                                  \n",
      " block_16_project (Conv2D)      (None, 7, 7, 320)    307200      ['block_16_depthwise_relu[0][0]']\n",
      "                                                                                                  \n",
      " block_16_project_BN (BatchNorm  (None, 7, 7, 320)   1280        ['block_16_project[0][0]']       \n",
      " alization)                                                                                       \n",
      "                                                                                                  \n",
      " Conv_1 (Conv2D)                (None, 7, 7, 1280)   409600      ['block_16_project_BN[0][0]']    \n",
      "                                                                                                  \n",
      " Conv_1_bn (BatchNormalization)  (None, 7, 7, 1280)  5120        ['Conv_1[0][0]']                 \n",
      "                                                                                                  \n",
      " out_relu (ReLU)                (None, 7, 7, 1280)   0           ['Conv_1_bn[0][0]']              \n",
      "                                                                                                  \n",
      "==================================================================================================\n",
      "Total params: 2,257,984\n",
      "Trainable params: 0\n",
      "Non-trainable params: 2,257,984\n",
      "__________________________________________________________________________________________________\n"
     ]
    }
   ],
   "source": [
    "model_224_without_top_layer.summary()"
   ]
  },
  {
   "cell_type": "code",
   "execution_count": 130,
   "metadata": {},
   "outputs": [
    {
     "data": {
      "text/plain": [
       "['input_7',\n",
       " 'Conv1',\n",
       " 'bn_Conv1',\n",
       " 'Conv1_relu',\n",
       " 'expanded_conv_depthwise',\n",
       " 'expanded_conv_depthwise_BN',\n",
       " 'expanded_conv_depthwise_relu',\n",
       " 'expanded_conv_project',\n",
       " 'expanded_conv_project_BN',\n",
       " 'block_1_expand',\n",
       " 'block_1_expand_BN',\n",
       " 'block_1_expand_relu',\n",
       " 'block_1_pad',\n",
       " 'block_1_depthwise',\n",
       " 'block_1_depthwise_BN',\n",
       " 'block_1_depthwise_relu',\n",
       " 'block_1_project',\n",
       " 'block_1_project_BN',\n",
       " 'block_2_expand',\n",
       " 'block_2_expand_BN',\n",
       " 'block_2_expand_relu',\n",
       " 'block_2_depthwise',\n",
       " 'block_2_depthwise_BN',\n",
       " 'block_2_depthwise_relu',\n",
       " 'block_2_project',\n",
       " 'block_2_project_BN',\n",
       " 'block_2_add',\n",
       " 'block_3_expand',\n",
       " 'block_3_expand_BN',\n",
       " 'block_3_expand_relu',\n",
       " 'block_3_pad',\n",
       " 'block_3_depthwise',\n",
       " 'block_3_depthwise_BN',\n",
       " 'block_3_depthwise_relu',\n",
       " 'block_3_project',\n",
       " 'block_3_project_BN',\n",
       " 'block_4_expand',\n",
       " 'block_4_expand_BN',\n",
       " 'block_4_expand_relu',\n",
       " 'block_4_depthwise',\n",
       " 'block_4_depthwise_BN',\n",
       " 'block_4_depthwise_relu',\n",
       " 'block_4_project',\n",
       " 'block_4_project_BN',\n",
       " 'block_4_add',\n",
       " 'block_5_expand',\n",
       " 'block_5_expand_BN',\n",
       " 'block_5_expand_relu',\n",
       " 'block_5_depthwise',\n",
       " 'block_5_depthwise_BN',\n",
       " 'block_5_depthwise_relu',\n",
       " 'block_5_project',\n",
       " 'block_5_project_BN',\n",
       " 'block_5_add',\n",
       " 'block_6_expand',\n",
       " 'block_6_expand_BN',\n",
       " 'block_6_expand_relu',\n",
       " 'block_6_pad',\n",
       " 'block_6_depthwise',\n",
       " 'block_6_depthwise_BN',\n",
       " 'block_6_depthwise_relu',\n",
       " 'block_6_project',\n",
       " 'block_6_project_BN',\n",
       " 'block_7_expand',\n",
       " 'block_7_expand_BN',\n",
       " 'block_7_expand_relu',\n",
       " 'block_7_depthwise',\n",
       " 'block_7_depthwise_BN',\n",
       " 'block_7_depthwise_relu',\n",
       " 'block_7_project',\n",
       " 'block_7_project_BN',\n",
       " 'block_7_add',\n",
       " 'block_8_expand',\n",
       " 'block_8_expand_BN',\n",
       " 'block_8_expand_relu',\n",
       " 'block_8_depthwise',\n",
       " 'block_8_depthwise_BN',\n",
       " 'block_8_depthwise_relu',\n",
       " 'block_8_project',\n",
       " 'block_8_project_BN',\n",
       " 'block_8_add',\n",
       " 'block_9_expand',\n",
       " 'block_9_expand_BN',\n",
       " 'block_9_expand_relu',\n",
       " 'block_9_depthwise',\n",
       " 'block_9_depthwise_BN',\n",
       " 'block_9_depthwise_relu',\n",
       " 'block_9_project',\n",
       " 'block_9_project_BN',\n",
       " 'block_9_add',\n",
       " 'block_10_expand',\n",
       " 'block_10_expand_BN',\n",
       " 'block_10_expand_relu',\n",
       " 'block_10_depthwise',\n",
       " 'block_10_depthwise_BN',\n",
       " 'block_10_depthwise_relu',\n",
       " 'block_10_project',\n",
       " 'block_10_project_BN',\n",
       " 'block_11_expand',\n",
       " 'block_11_expand_BN',\n",
       " 'block_11_expand_relu',\n",
       " 'block_11_depthwise',\n",
       " 'block_11_depthwise_BN',\n",
       " 'block_11_depthwise_relu',\n",
       " 'block_11_project',\n",
       " 'block_11_project_BN',\n",
       " 'block_11_add',\n",
       " 'block_12_expand',\n",
       " 'block_12_expand_BN',\n",
       " 'block_12_expand_relu',\n",
       " 'block_12_depthwise',\n",
       " 'block_12_depthwise_BN',\n",
       " 'block_12_depthwise_relu',\n",
       " 'block_12_project',\n",
       " 'block_12_project_BN',\n",
       " 'block_12_add',\n",
       " 'block_13_expand',\n",
       " 'block_13_expand_BN',\n",
       " 'block_13_expand_relu',\n",
       " 'block_13_pad',\n",
       " 'block_13_depthwise',\n",
       " 'block_13_depthwise_BN',\n",
       " 'block_13_depthwise_relu',\n",
       " 'block_13_project',\n",
       " 'block_13_project_BN',\n",
       " 'block_14_expand',\n",
       " 'block_14_expand_BN',\n",
       " 'block_14_expand_relu',\n",
       " 'block_14_depthwise',\n",
       " 'block_14_depthwise_BN',\n",
       " 'block_14_depthwise_relu',\n",
       " 'block_14_project',\n",
       " 'block_14_project_BN',\n",
       " 'block_14_add',\n",
       " 'block_15_expand',\n",
       " 'block_15_expand_BN',\n",
       " 'block_15_expand_relu',\n",
       " 'block_15_depthwise',\n",
       " 'block_15_depthwise_BN',\n",
       " 'block_15_depthwise_relu',\n",
       " 'block_15_project',\n",
       " 'block_15_project_BN',\n",
       " 'block_15_add',\n",
       " 'block_16_expand',\n",
       " 'block_16_expand_BN',\n",
       " 'block_16_expand_relu',\n",
       " 'block_16_depthwise',\n",
       " 'block_16_depthwise_BN',\n",
       " 'block_16_depthwise_relu',\n",
       " 'block_16_project',\n",
       " 'block_16_project_BN',\n",
       " 'Conv_1',\n",
       " 'Conv_1_bn',\n",
       " 'out_relu']"
      ]
     },
     "execution_count": 130,
     "metadata": {},
     "output_type": "execute_result"
    }
   ],
   "source": [
    "#updating weights\n",
    "\n",
    "# layer names\n",
    "pre_model_config = model_224_without_top_layer.get_config()\n",
    "layer_names = [pre_model_config['layers'][x]['name'] for x in range(len(pre_model_config['layers']))]\n",
    "layer_names\n",
    "\n"
   ]
  },
  {
   "cell_type": "code",
   "execution_count": 131,
   "metadata": {},
   "outputs": [
    {
     "data": {
      "text/plain": [
       "'out_relu'"
      ]
     },
     "execution_count": 131,
     "metadata": {},
     "output_type": "execute_result"
    }
   ],
   "source": [
    "len(model_224_without_top_layer.layers)\n",
    "model_224_without_top_layer.layers[153]\n",
    "layer_names[153]"
   ]
  },
  {
   "cell_type": "code",
   "execution_count": 132,
   "metadata": {},
   "outputs": [],
   "source": [
    "for layer in model_224.layers:\n",
    "    if layer.name in layer_names:\n",
    "        if layer.get_weights() != [] :\n",
    "            target_layer = model_224_without_top_layer.get_layer(layer.name)\n",
    "            \n",
    "            weight = layer.get_weights()\n",
    "            # bias = layer.get_weights()[1]\n",
    "\n",
    "            target_layer.set_weights(weight)\n",
    "            target_layer.trainable = False\n",
    "        "
   ]
  },
  {
   "cell_type": "code",
   "execution_count": null,
   "metadata": {},
   "outputs": [],
   "source": []
  },
  {
   "cell_type": "code",
   "execution_count": 160,
   "metadata": {},
   "outputs": [
    {
     "name": "stdout",
     "output_type": "stream",
     "text": [
      "Model: \"sequential_6\"\n",
      "_________________________________________________________________\n",
      " Layer (type)                Output Shape              Param #   \n",
      "=================================================================\n",
      " mobilenetv2_1.00_224 (Funct  (None, 7, 7, 1280)       2257984   \n",
      " ional)                                                          \n",
      "                                                                 \n",
      " global_average_pooling2d_7   (None, 1280)             0         \n",
      " (GlobalAveragePooling2D)                                        \n",
      "                                                                 \n",
      " dense_6 (Dense)             (None, 5)                 6405      \n",
      "                                                                 \n",
      "=================================================================\n",
      "Total params: 2,264,389\n",
      "Trainable params: 6,405\n",
      "Non-trainable params: 2,257,984\n",
      "_________________________________________________________________\n"
     ]
    }
   ],
   "source": [
    "num_of_flowers = 5\n",
    "model = tf.keras.Sequential([\n",
    "    model_224_without_top_layer,\n",
    "    tf.keras.layers.GlobalAveragePooling2D(),\n",
    "    # tf.keras.layers.Flatten(),\n",
    "    tf.keras.layers.Dense(num_of_flowers)\n",
    "])\n",
    "\n",
    "model.summary()"
   ]
  },
  {
   "cell_type": "code",
   "execution_count": 161,
   "metadata": {},
   "outputs": [
    {
     "data": {
      "text/plain": [
       "[array([1.2102375, 1.1382099, 1.1937536, ..., 1.1645414, 1.1686966,\n",
       "        1.2112191], dtype=float32),\n",
       " array([-1.1921003, -1.0592812, -1.2243685, ..., -1.1624321, -1.1511711,\n",
       "        -1.1495001], dtype=float32),\n",
       " array([ 3.9949318e-05, -2.6198127e-04, -5.3372354e-05, ...,\n",
       "        -4.4540127e-05, -9.6894546e-05,  5.3597880e-05], dtype=float32),\n",
       " array([0.28292483, 0.2462233 , 0.2856205 , ..., 0.274729  , 0.28398702,\n",
       "        0.2686955 ], dtype=float32)]"
      ]
     },
     "execution_count": 161,
     "metadata": {},
     "output_type": "execute_result"
    }
   ],
   "source": [
    "model.layers[0].layers[152].get_weights()"
   ]
  },
  {
   "cell_type": "code",
   "execution_count": 162,
   "metadata": {},
   "outputs": [
    {
     "data": {
      "text/plain": [
       "array([0.30255938, 0.28455248, 0.2984384 , ..., 0.29113534, 0.29217416,\n",
       "       0.30280477], dtype=float32)"
      ]
     },
     "execution_count": 162,
     "metadata": {},
     "output_type": "execute_result"
    }
   ],
   "source": [
    "model.layers[0].layers[152].get_weights()[0]/4"
   ]
  },
  {
   "cell_type": "code",
   "execution_count": 163,
   "metadata": {},
   "outputs": [
    {
     "data": {
      "text/plain": [
       "[array([0.00094626, 0.00094626, 0.00094626, ..., 0.00094626, 0.00094626,\n",
       "        0.00094626], dtype=float32),\n",
       " array([-0.00089805, -0.00089805, -0.00089805, ..., -0.00089805,\n",
       "        -0.00089805, -0.00089805], dtype=float32),\n",
       " array([4.1873342e-08, 4.1873342e-08, 4.1873342e-08, ..., 4.1873342e-08,\n",
       "        4.1873342e-08, 4.1873342e-08], dtype=float32),\n",
       " array([0.00020992, 0.00020992, 0.00020992, ..., 0.00020992, 0.00020992,\n",
       "        0.00020992], dtype=float32)]"
      ]
     },
     "execution_count": 163,
     "metadata": {},
     "output_type": "execute_result"
    }
   ],
   "source": [
    "# i = 0\n",
    "update_weight_layer = model.layers[0].layers[152]\n",
    "old_weights = update_weight_layer.get_weights()\n",
    "\n",
    "updated_weights = [] \n",
    "for old_weight in old_weights:\n",
    "    average = 0\n",
    "    for weight in old_weight:\n",
    "        sum = 0 + weight\n",
    "    average = sum/len(old_weight)\n",
    "    for x in range(len(old_weight)):\n",
    "        old_weight[x] = average\n",
    "    updated_weights.append(old_weight)\n",
    "updated_weights\n",
    "# update_weight_layer.set_weights(updated_weights)"
   ]
  },
  {
   "cell_type": "code",
   "execution_count": 164,
   "metadata": {},
   "outputs": [],
   "source": [
    "model.layers[0].layers[152].set_weights(updated_weights)"
   ]
  },
  {
   "cell_type": "code",
   "execution_count": 165,
   "metadata": {},
   "outputs": [
    {
     "data": {
      "text/plain": [
       "[array([0.00094626, 0.00094626, 0.00094626, ..., 0.00094626, 0.00094626,\n",
       "        0.00094626], dtype=float32),\n",
       " array([-0.00089805, -0.00089805, -0.00089805, ..., -0.00089805,\n",
       "        -0.00089805, -0.00089805], dtype=float32),\n",
       " array([4.1873342e-08, 4.1873342e-08, 4.1873342e-08, ..., 4.1873342e-08,\n",
       "        4.1873342e-08, 4.1873342e-08], dtype=float32),\n",
       " array([0.00020992, 0.00020992, 0.00020992, ..., 0.00020992, 0.00020992,\n",
       "        0.00020992], dtype=float32)]"
      ]
     },
     "execution_count": 165,
     "metadata": {},
     "output_type": "execute_result"
    }
   ],
   "source": [
    "model.layers[0].layers[152].get_weights()"
   ]
  },
  {
   "cell_type": "code",
   "execution_count": 166,
   "metadata": {},
   "outputs": [],
   "source": [
    "model.compile(\n",
    "    optimizer = 'adam',\n",
    "    loss = tf.keras.losses.SparseCategoricalCrossentropy(),\n",
    "    metrics = ['acc']\n",
    ")"
   ]
  },
  {
   "cell_type": "code",
   "execution_count": 167,
   "metadata": {},
   "outputs": [
    {
     "name": "stdout",
     "output_type": "stream",
     "text": [
      "Model: \"sequential_6\"\n",
      "_________________________________________________________________\n",
      " Layer (type)                Output Shape              Param #   \n",
      "=================================================================\n",
      " mobilenetv2_1.00_224 (Funct  (None, 7, 7, 1280)       2257984   \n",
      " ional)                                                          \n",
      "                                                                 \n",
      " global_average_pooling2d_7   (None, 1280)             0         \n",
      " (GlobalAveragePooling2D)                                        \n",
      "                                                                 \n",
      " dense_6 (Dense)             (None, 5)                 6405      \n",
      "                                                                 \n",
      "=================================================================\n",
      "Total params: 2,264,389\n",
      "Trainable params: 6,405\n",
      "Non-trainable params: 2,257,984\n",
      "_________________________________________________________________\n"
     ]
    }
   ],
   "source": [
    "model.summary()"
   ]
  },
  {
   "cell_type": "code",
   "execution_count": 168,
   "metadata": {},
   "outputs": [
    {
     "data": {
      "text/plain": [
       "<tf.Variable 'learning_rate:0' shape=() dtype=float32, numpy=0.001>"
      ]
     },
     "execution_count": 168,
     "metadata": {},
     "output_type": "execute_result"
    }
   ],
   "source": [
    "model.optimizer.learning_rate"
   ]
  },
  {
   "cell_type": "code",
   "execution_count": 169,
   "metadata": {},
   "outputs": [
    {
     "name": "stdout",
     "output_type": "stream",
     "text": [
      "Epoch 1/15\n",
      "86/86 [==============================] - 65s 717ms/step - loss: 3.9481 - acc: 0.3118\n",
      "Epoch 2/15\n",
      "86/86 [==============================] - 62s 716ms/step - loss: 1.6089 - acc: 0.2013\n",
      "Epoch 3/15\n",
      "86/86 [==============================] - 62s 715ms/step - loss: 1.6089 - acc: 0.2002\n",
      "Epoch 4/15\n",
      "86/86 [==============================] - 61s 712ms/step - loss: 1.6089 - acc: 0.2002\n",
      "Epoch 5/15\n",
      "86/86 [==============================] - 61s 704ms/step - loss: 1.6089 - acc: 0.2002\n",
      "Epoch 6/15\n",
      "86/86 [==============================] - 61s 705ms/step - loss: 1.6089 - acc: 0.2002\n",
      "Epoch 7/15\n",
      "86/86 [==============================] - 61s 706ms/step - loss: 1.6089 - acc: 0.2002\n",
      "Epoch 8/15\n",
      "86/86 [==============================] - 62s 717ms/step - loss: 1.6089 - acc: 0.2002\n",
      "Epoch 9/15\n",
      "86/86 [==============================] - 61s 708ms/step - loss: 1.6089 - acc: 0.2002\n",
      "Epoch 10/15\n",
      "86/86 [==============================] - 61s 710ms/step - loss: 1.6089 - acc: 0.2002\n",
      "Epoch 11/15\n",
      "86/86 [==============================] - 61s 708ms/step - loss: 1.6089 - acc: 0.2002\n",
      "Epoch 12/15\n",
      "86/86 [==============================] - 61s 709ms/step - loss: 1.6089 - acc: 0.2002\n",
      "Epoch 13/15\n",
      "86/86 [==============================] - 61s 714ms/step - loss: 1.6089 - acc: 0.2002\n",
      "Epoch 14/15\n",
      "86/86 [==============================] - 61s 706ms/step - loss: 1.6089 - acc: 0.2002\n",
      "Epoch 15/15\n",
      "86/86 [==============================] - 61s 704ms/step - loss: 1.6089 - acc: 0.2002\n"
     ]
    },
    {
     "data": {
      "text/plain": [
       "<keras.callbacks.History at 0x7fbcee818b80>"
      ]
     },
     "execution_count": 169,
     "metadata": {},
     "output_type": "execute_result"
    }
   ],
   "source": [
    "model.fit(X_train_scaled, y_train, epochs=15)"
   ]
  },
  {
   "cell_type": "code",
   "execution_count": 170,
   "metadata": {},
   "outputs": [
    {
     "name": "stdout",
     "output_type": "stream",
     "text": [
      "29/29 [==============================] - 22s 671ms/step - loss: 1.6094 - acc: 0.1863\n"
     ]
    },
    {
     "data": {
      "text/plain": [
       "[1.609437346458435, 0.18627451360225677]"
      ]
     },
     "execution_count": 170,
     "metadata": {},
     "output_type": "execute_result"
    }
   ],
   "source": [
    "model.evaluate(X_test_scaled, y_test)"
   ]
  },
  {
   "cell_type": "code",
   "execution_count": null,
   "metadata": {},
   "outputs": [
    {
     "data": {
      "text/plain": [
       "array([4, 3, 3, 0, 3, 3, 0, 0, 3, 3, 0, 4, 3, 3, 0, 3, 0, 0, 1, 1, 0, 3,\n",
       "       4, 3, 3, 3, 1, 3, 0, 3, 3, 3, 3, 3, 3, 3, 3, 3, 3, 1, 3, 3, 3, 4,\n",
       "       3, 0, 3, 0, 0, 0, 3, 3, 3, 0, 3, 4, 1, 0, 3, 3, 3, 3, 3, 3, 3, 3,\n",
       "       3, 3, 1, 0, 0, 0, 3, 3, 3, 3, 3, 3, 3, 3, 3, 3, 0, 3, 1, 0, 3, 3,\n",
       "       3, 0, 3, 1, 0, 3, 0, 0, 3, 3, 3, 3, 3, 0, 0, 3, 3, 0, 3, 3, 3, 3,\n",
       "       3, 0, 3, 3, 4, 4, 3, 0, 4, 0, 3, 3, 4, 1, 1, 3, 0, 3, 3, 4, 3, 3,\n",
       "       3, 3, 3, 3, 3, 0, 3, 3, 3, 4, 3, 3, 4, 3, 3, 3, 3, 3, 3, 3, 0, 3,\n",
       "       3, 3, 3, 3, 1, 4, 3, 3, 4, 3, 3, 3, 0, 1, 3, 4, 1, 3, 4, 3, 3, 3,\n",
       "       3, 4, 3, 3, 0, 0, 3, 3, 3, 3, 3, 0, 3, 0, 3, 3, 3, 3, 3, 1, 0, 4,\n",
       "       3, 3, 3, 3, 3, 3, 3, 3, 3, 3, 3, 3, 3, 3, 3, 0, 0, 3, 3, 3, 3, 0,\n",
       "       4, 3, 3, 3, 3, 3, 3, 3, 3, 3, 3, 4, 0, 3, 3, 4, 4, 3, 0, 3, 3, 3,\n",
       "       4, 4, 0, 4, 3, 1, 3, 3, 4, 3, 1, 3, 3, 3, 3, 3, 3, 3, 3, 3, 3, 0,\n",
       "       3, 4, 0, 3, 0, 0, 4, 3, 0, 3, 3, 3, 3, 3, 1, 3, 3, 3, 3, 3, 4, 3,\n",
       "       4, 0, 3, 0, 1, 3, 0, 0, 0, 3, 3, 0, 3, 1, 0, 3, 3, 3, 3, 3, 1, 1,\n",
       "       4, 3, 0, 3, 3, 1, 3, 3, 1, 3, 3, 3, 4, 3, 3, 3, 0, 3, 3, 1, 4, 3,\n",
       "       3, 3, 3, 3, 3, 3, 3, 3, 0, 3, 0, 3, 3, 4, 0, 3, 0, 3, 3, 0, 0, 1,\n",
       "       3, 3, 3, 1, 3, 1, 3, 0, 3, 3, 3, 3, 3, 3, 1, 3, 3, 3, 1, 3, 0, 3,\n",
       "       3, 3, 3, 3, 0, 3, 4, 3, 3, 0, 3, 3, 0, 0, 3, 3, 3, 3, 0, 3, 3, 3,\n",
       "       3, 3, 3, 3, 3, 3, 4, 4, 0, 3, 3, 3, 0, 0, 3, 0, 4, 0, 0, 3, 0, 3,\n",
       "       3, 3, 3, 3, 0, 3, 0, 3, 4, 3, 1, 3, 4, 4, 0, 0, 3, 0, 3, 0, 3, 3,\n",
       "       3, 3, 4, 3, 3, 3, 3, 3, 3, 3, 1, 1, 1, 4, 3, 3, 3, 3, 0, 0, 3, 4,\n",
       "       3, 0, 3, 3, 0, 3, 3, 3, 3, 1, 3, 3, 3, 3, 3, 0, 3, 3, 1, 3, 1, 3,\n",
       "       1, 0, 3, 3, 4, 3, 0, 4, 3, 3, 3, 3, 3, 0, 4, 3, 3, 3, 3, 4, 4, 4,\n",
       "       4, 3, 3, 4, 0, 3, 3, 3, 1, 0, 1, 3, 4, 3, 1, 3, 3, 1, 3, 3, 3, 3,\n",
       "       4, 1, 3, 3, 0, 4, 3, 0, 0, 3, 3, 3, 3, 3, 3, 3, 3, 0, 0, 3, 3, 3,\n",
       "       0, 3, 3, 3, 3, 4, 3, 1, 3, 0, 3, 3, 3, 3, 3, 3, 3, 3, 0, 0, 0, 0,\n",
       "       3, 0, 4, 3, 3, 3, 3, 3, 3, 3, 3, 0, 3, 4, 3, 3, 0, 4, 3, 3, 3, 3,\n",
       "       0, 3, 3, 3, 3, 0, 3, 3, 3, 0, 0, 3, 3, 3, 3, 3, 0, 3, 3, 3, 4, 0,\n",
       "       3, 0, 3, 0, 4, 1, 3, 3, 0, 0, 3, 1, 4, 3, 3, 3, 3, 3, 3, 3, 3, 4,\n",
       "       3, 3, 3, 3, 4, 3, 3, 0, 4, 3, 3, 3, 3, 3, 3, 3, 0, 3, 3, 3, 3, 4,\n",
       "       3, 3, 3, 4, 1, 3, 3, 3, 4, 1, 0, 3, 3, 3, 3, 0, 1, 3, 1, 3, 3, 1,\n",
       "       3, 3, 3, 3, 0, 3, 3, 0, 3, 3, 4, 3, 3, 3, 3, 0, 3, 1, 3, 3, 3, 3,\n",
       "       0, 0, 4, 3, 3, 3, 4, 3, 0, 0, 0, 3, 3, 4, 3, 0, 3, 3, 3, 3, 1, 3,\n",
       "       3, 3, 3, 0, 1, 0, 3, 3, 0, 3, 0, 1, 0, 3, 0, 3, 3, 3, 3, 3, 3, 3,\n",
       "       4, 0, 0, 3, 3, 3, 4, 4, 3, 0, 3, 0, 4, 0, 0, 3, 3, 3, 3, 3, 4, 3,\n",
       "       3, 3, 1, 0, 0, 3, 3, 3, 0, 3, 3, 3, 3, 3, 3, 0, 0, 3, 3, 3, 3, 3,\n",
       "       3, 4, 3, 3, 3, 3, 4, 3, 0, 3, 4, 3, 3, 3, 3, 0, 3, 3, 3, 4, 0, 3,\n",
       "       3, 3, 0, 3, 3, 0, 4, 3, 3, 0, 0, 3, 1, 3, 3, 3, 0, 3, 3, 3, 3, 0,\n",
       "       3, 3, 0, 3, 3, 4, 0, 0, 0, 3, 3, 0, 3, 3, 3, 4, 1, 1, 3, 3, 3, 0,\n",
       "       1, 3, 3, 4, 3, 0, 0, 4, 1, 3, 3, 0, 3, 3, 3, 1, 0, 3, 3, 3, 3, 0,\n",
       "       3, 0, 4, 3, 0, 0, 3, 3, 3, 0, 3, 4, 4, 0, 3, 0, 0, 1, 3, 3, 4, 3,\n",
       "       3, 0, 0, 3, 3, 3, 3, 3, 3, 3, 0, 0, 0, 3, 0, 3])"
      ]
     },
     "execution_count": 26,
     "metadata": {},
     "output_type": "execute_result"
    }
   ],
   "source": [
    "predicted = model.predict(X_test)\n",
    "predicted = np.argmax(predicted, axis=1)\n",
    "predicted"
   ]
  },
  {
   "cell_type": "code",
   "execution_count": null,
   "metadata": {},
   "outputs": [
    {
     "data": {
      "text/plain": [
       "4"
      ]
     },
     "execution_count": 27,
     "metadata": {},
     "output_type": "execute_result"
    }
   ],
   "source": [
    "predicted[0]"
   ]
  },
  {
   "cell_type": "code",
   "execution_count": null,
   "metadata": {},
   "outputs": [
    {
     "data": {
      "text/plain": [
       "{'roses': 0, 'tulips': 1, 'daisy': 2, 'dandelion': 3, 'sunflowers': 4}"
      ]
     },
     "execution_count": 28,
     "metadata": {},
     "output_type": "execute_result"
    }
   ],
   "source": [
    "flowers_label_dict"
   ]
  },
  {
   "cell_type": "code",
   "execution_count": null,
   "metadata": {},
   "outputs": [
    {
     "data": {
      "text/plain": [
       "1"
      ]
     },
     "execution_count": 29,
     "metadata": {},
     "output_type": "execute_result"
    }
   ],
   "source": [
    "y_test[0]"
   ]
  },
  {
   "cell_type": "code",
   "execution_count": null,
   "metadata": {},
   "outputs": [
    {
     "data": {
      "text/plain": [
       "3"
      ]
     },
     "execution_count": 30,
     "metadata": {},
     "output_type": "execute_result"
    }
   ],
   "source": [
    "predicted[13]"
   ]
  },
  {
   "cell_type": "code",
   "execution_count": null,
   "metadata": {},
   "outputs": [
    {
     "data": {
      "text/plain": [
       "3"
      ]
     },
     "execution_count": 31,
     "metadata": {},
     "output_type": "execute_result"
    }
   ],
   "source": [
    "y_test[13]"
   ]
  },
  {
   "cell_type": "code",
   "execution_count": null,
   "metadata": {},
   "outputs": [
    {
     "data": {
      "text/plain": [
       "[<keras.engine.functional.Functional at 0x7fbe60f48790>,\n",
       " <keras.layers.pooling.GlobalAveragePooling2D at 0x7fbe60f4ffd0>,\n",
       " <keras.layers.core.dense.Dense at 0x7fbe60eea4f0>]"
      ]
     },
     "execution_count": 32,
     "metadata": {},
     "output_type": "execute_result"
    }
   ],
   "source": [
    "model.layers"
   ]
  },
  {
   "cell_type": "code",
   "execution_count": null,
   "metadata": {},
   "outputs": [],
   "source": []
  }
 ],
 "metadata": {
  "interpreter": {
   "hash": "1ea1916ba77a8ccce6e1d32e626899833938a2712c86908bdef9d7973b0a757c"
  },
  "kernelspec": {
   "display_name": "Python 3.9.6 ('tensorflow')",
   "language": "python",
   "name": "python3"
  },
  "language_info": {
   "codemirror_mode": {
    "name": "ipython",
    "version": 3
   },
   "file_extension": ".py",
   "mimetype": "text/x-python",
   "name": "python",
   "nbconvert_exporter": "python",
   "pygments_lexer": "ipython3",
   "version": "3.9.6"
  },
  "orig_nbformat": 4
 },
 "nbformat": 4,
 "nbformat_minor": 2
}
